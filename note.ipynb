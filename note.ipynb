{
 "cells": [
  {
   "cell_type": "code",
   "execution_count": null,
   "id": "rocky-chart",
   "metadata": {},
   "outputs": [],
   "source": [
    "import os\n",
    "import argparse\n",
    "import bencode\n",
    "import collections\n",
    "\n",
    "from qbittorrentlib import *"
   ]
  },
  {
   "cell_type": "code",
   "execution_count": null,
   "id": "anticipated-serum",
   "metadata": {},
   "outputs": [],
   "source": [
    "torrent_id_list = get_qbittorrent_id_list()\n",
    "len(torrent_id_list)"
   ]
  },
  {
   "cell_type": "code",
   "execution_count": null,
   "id": "anticipated-treatment",
   "metadata": {},
   "outputs": [],
   "source": [
    "torrent_id_list"
   ]
  },
  {
   "cell_type": "code",
   "execution_count": null,
   "id": "greenhouse-outside",
   "metadata": {
    "scrolled": false
   },
   "outputs": [],
   "source": [
    "for torrent_id in torrent_id_list:\n",
    "    print('='*64)\n",
    "    print(torrent_id)\n",
    "    torrent_file_content_bs = get_qbittorrent_torrent_file_content_by_id(torrent_id)\n",
    "    torrent_obj = bencode.decode(torrent_file_content_bs)\n",
    "#     print(type(torrent_obj))\n",
    "#     print(torrent_obj.keys())\n",
    "    torrent_obj_info = torrent_obj['info']\n",
    "    torrent_obj_info_name = torrent_obj_info['name']\n",
    "    print(torrent_obj_info_name)\n",
    "#     break"
   ]
  },
  {
   "cell_type": "code",
   "execution_count": null,
   "id": "golden-petersburg",
   "metadata": {},
   "outputs": [],
   "source": [
    "print(torrent_obj.keys())"
   ]
  },
  {
   "cell_type": "code",
   "execution_count": null,
   "id": "smooth-martin",
   "metadata": {},
   "outputs": [],
   "source": [
    "for k, v in torrent_obj.items():\n",
    "    print(k, type(v))"
   ]
  },
  {
   "cell_type": "code",
   "execution_count": null,
   "id": "civic-quebec",
   "metadata": {},
   "outputs": [],
   "source": [
    "torrent_obj_info = torrent_obj['info']\n",
    "type(torrent_obj_info)"
   ]
  },
  {
   "cell_type": "code",
   "execution_count": null,
   "id": "designing-thermal",
   "metadata": {},
   "outputs": [],
   "source": [
    "torrent_obj_info.keys()"
   ]
  },
  {
   "cell_type": "code",
   "execution_count": null,
   "id": "identified-moisture",
   "metadata": {},
   "outputs": [],
   "source": [
    "torrent_obj_info_name = torrent_obj_info['name']\n",
    "torrent_obj_info_name"
   ]
  },
  {
   "cell_type": "code",
   "execution_count": null,
   "id": "blank-bottle",
   "metadata": {},
   "outputs": [],
   "source": [
    "torrent_id = '47f6845eec104d857d508834d24540928db776ec' # hooksoft royal box\n",
    "torrent_id"
   ]
  },
  {
   "cell_type": "code",
   "execution_count": null,
   "id": "creative-tissue",
   "metadata": {},
   "outputs": [],
   "source": [
    "torrent_file_content_bs = get_qbittorrent_torrent_file_content_by_id(torrent_id)\n",
    "torrent_obj = bencode.decode(torrent_file_content_bs)\n",
    "torrent_obj.keys()"
   ]
  },
  {
   "cell_type": "code",
   "execution_count": null,
   "id": "innovative-cruise",
   "metadata": {},
   "outputs": [],
   "source": [
    "torrent_obj_info = torrent_obj['info']\n",
    "torrent_obj_info.keys()"
   ]
  },
  {
   "cell_type": "code",
   "execution_count": null,
   "id": "fifteen-section",
   "metadata": {},
   "outputs": [],
   "source": [
    "for k, v in torrent_obj_info.items():\n",
    "    print(k, type(v))"
   ]
  },
  {
   "cell_type": "code",
   "execution_count": null,
   "id": "incorporated-lewis",
   "metadata": {},
   "outputs": [],
   "source": [
    "torrent_obj_info_name = torrent_obj_info['name']\n",
    "torrent_obj_info_name"
   ]
  },
  {
   "cell_type": "code",
   "execution_count": null,
   "id": "vietnamese-sharp",
   "metadata": {},
   "outputs": [],
   "source": [
    "torrent_obj_info_files = torrent_obj_info['files']\n",
    "torrent_obj_info_files"
   ]
  },
  {
   "cell_type": "code",
   "execution_count": null,
   "id": "another-artist",
   "metadata": {},
   "outputs": [],
   "source": [
    "type(torrent_obj_info_files)"
   ]
  },
  {
   "cell_type": "code",
   "execution_count": null,
   "id": "committed-waters",
   "metadata": {},
   "outputs": [],
   "source": [
    "for entry in torrent_obj_info_files:\n",
    "#     print(entry)\n",
    "    print(entry['path'])"
   ]
  },
  {
   "cell_type": "code",
   "execution_count": null,
   "id": "trying-fourth",
   "metadata": {},
   "outputs": [],
   "source": [
    "fastresume_file_content_bs = get_qbittorrent_fastresume_file_content_by_id(torrent_id)\n",
    "len(fastresume_file_content_bs)"
   ]
  },
  {
   "cell_type": "code",
   "execution_count": null,
   "id": "turned-cincinnati",
   "metadata": {},
   "outputs": [],
   "source": [
    "fastresume_obj = bencode.decode(fastresume_file_content_bs)\n",
    "type(fastresume_obj)"
   ]
  },
  {
   "cell_type": "code",
   "execution_count": null,
   "id": "electoral-stretch",
   "metadata": {},
   "outputs": [],
   "source": [
    "fastresume_obj.keys()"
   ]
  },
  {
   "cell_type": "code",
   "execution_count": null,
   "id": "piano-pharmaceutical",
   "metadata": {},
   "outputs": [],
   "source": [
    "fastresume_obj['qBt-savePath']"
   ]
  },
  {
   "cell_type": "code",
   "execution_count": null,
   "id": "shaped-assumption",
   "metadata": {},
   "outputs": [],
   "source": [
    "def get_object_scheme(obj):\n",
    "    if isinstance(obj, dict):\n",
    "        return {k: get_object_scheme(v) for k, v in obj.items()}\n",
    "    elif isinstance(obj, list):\n",
    "        if len(obj) == 0:\n",
    "            return list\n",
    "\n",
    "        type_list = []\n",
    "        for item in obj:\n",
    "            item_type = get_object_scheme(item)\n",
    "            if item_type not in type_list:\n",
    "                type_list.append(item_type)\n",
    "        return type_list\n",
    "    else:\n",
    "        return type(obj)"
   ]
  },
  {
   "cell_type": "code",
   "execution_count": null,
   "id": "meaning-eating",
   "metadata": {},
   "outputs": [],
   "source": [
    "get_object_scheme(fastresume_obj)"
   ]
  },
  {
   "cell_type": "code",
   "execution_count": null,
   "id": "junior-license",
   "metadata": {
    "scrolled": true
   },
   "outputs": [],
   "source": [
    "fastresume_obj['pieces']"
   ]
  },
  {
   "cell_type": "code",
   "execution_count": null,
   "id": "caroline-depression",
   "metadata": {},
   "outputs": [],
   "source": [
    "type(fastresume_obj['pieces'])"
   ]
  },
  {
   "cell_type": "code",
   "execution_count": null,
   "id": "guided-celebrity",
   "metadata": {},
   "outputs": [],
   "source": [
    "import bencodepy\n",
    "bencodepy"
   ]
  },
  {
   "cell_type": "code",
   "execution_count": null,
   "id": "prescription-assessment",
   "metadata": {},
   "outputs": [],
   "source": [
    "import bencode\n",
    "bencode"
   ]
  },
  {
   "cell_type": "code",
   "execution_count": null,
   "id": "upset-active",
   "metadata": {},
   "outputs": [],
   "source": [
    "bencode_decoder = bencodepy.BencodeDecoder()"
   ]
  },
  {
   "cell_type": "code",
   "execution_count": null,
   "id": "rotary-thousand",
   "metadata": {},
   "outputs": [],
   "source": []
  },
  {
   "cell_type": "code",
   "execution_count": null,
   "id": "impaired-content",
   "metadata": {},
   "outputs": [],
   "source": [
    "raw_fastresume_obj = bencode_decoder.decode(fastresume_file_content_bs)\n",
    "raw_fastresume_obj"
   ]
  },
  {
   "cell_type": "code",
   "execution_count": null,
   "id": "turkish-petite",
   "metadata": {},
   "outputs": [],
   "source": [
    "def bencode_decode_string_key_and_value(obj):\n",
    "    if isinstance(obj, dict):\n",
    "        return {bencode_decode_string_key_and_value(k): bencode_decode_string_key_and_value(v) for k, v in obj.items()}\n",
    "    elif isinstance(obj, list):\n",
    "        if len(obj) == 0:\n",
    "            return obj\n",
    "        return [bencode_decode_string_key_and_value(item) for item in obj]\n",
    "    elif isinstance(obj, bytes):\n",
    "        if len(obj) == 0:\n",
    "            return obj\n",
    "\n",
    "        try:\n",
    "            return obj.decode('utf-8')\n",
    "        except UnicodeDecodeError:\n",
    "            return obj\n",
    "    else:\n",
    "        return obj"
   ]
  },
  {
   "cell_type": "code",
   "execution_count": null,
   "id": "breathing-button",
   "metadata": {
    "scrolled": true
   },
   "outputs": [],
   "source": [
    "fastresume_obj = bencode_decode_string_key_and_value(raw_fastresume_obj)\n",
    "fastresume_obj"
   ]
  },
  {
   "cell_type": "code",
   "execution_count": null,
   "id": "framed-creativity",
   "metadata": {},
   "outputs": [],
   "source": [
    "get_object_scheme(fastresume_obj)"
   ]
  },
  {
   "cell_type": "code",
   "execution_count": null,
   "id": "shared-width",
   "metadata": {},
   "outputs": [],
   "source": [
    "fastresume_obj['save_path']"
   ]
  },
  {
   "cell_type": "code",
   "execution_count": null,
   "id": "hawaiian-creek",
   "metadata": {},
   "outputs": [],
   "source": [
    "fastresume_obj['qBt-savePath']"
   ]
  }
 ],
 "metadata": {
  "kernelspec": {
   "display_name": "Python 3",
   "language": "python",
   "name": "python3"
  },
  "language_info": {
   "codemirror_mode": {
    "name": "ipython",
    "version": 3
   },
   "file_extension": ".py",
   "mimetype": "text/x-python",
   "name": "python",
   "nbconvert_exporter": "python",
   "pygments_lexer": "ipython3",
   "version": "3.7.9"
  }
 },
 "nbformat": 4,
 "nbformat_minor": 5
}
